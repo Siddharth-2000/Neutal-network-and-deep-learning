{
 "cells": [
  {
   "cell_type": "markdown",
   "id": "333e750c",
   "metadata": {},
   "source": [
    "Importing all the necessary packages to run perform operations over data\n"
   ]
  },
  {
   "cell_type": "code",
   "execution_count": 73,
   "id": "312bec7d",
   "metadata": {},
   "outputs": [],
   "source": [
    "import pandas as pd #for Data analysis\n",
    "import numpy as np #to perform mathematical operations\n",
    "import matplotlib.pyplot as plt #for creating varies plot diagrams\n"
   ]
  },
  {
   "cell_type": "markdown",
   "id": "d0fc3ce5",
   "metadata": {},
   "source": [
    "a. Read the provided CSV file ‘data.csv’"
   ]
  },
  {
   "cell_type": "code",
   "execution_count": 74,
   "id": "6f7cae20",
   "metadata": {},
   "outputs": [],
   "source": [
    "#reading the csv format data\n",
    "data=pd.read_csv('data.csv')\n"
   ]
  },
  {
   "cell_type": "markdown",
   "id": "39fccd51",
   "metadata": {},
   "source": [
    "b.https://drive.google.com/drive/folders/1h8C3mLsso-R-sIOLsvoYwPLzy2fJ4IOF data"
   ]
  },
  {
   "cell_type": "code",
   "execution_count": 75,
   "id": "ee7b9de0",
   "metadata": {},
   "outputs": [
    {
     "data": {
      "text/html": [
       "<div>\n",
       "<style scoped>\n",
       "    .dataframe tbody tr th:only-of-type {\n",
       "        vertical-align: middle;\n",
       "    }\n",
       "\n",
       "    .dataframe tbody tr th {\n",
       "        vertical-align: top;\n",
       "    }\n",
       "\n",
       "    .dataframe thead th {\n",
       "        text-align: right;\n",
       "    }\n",
       "</style>\n",
       "<table border=\"1\" class=\"dataframe\">\n",
       "  <thead>\n",
       "    <tr style=\"text-align: right;\">\n",
       "      <th></th>\n",
       "      <th>Duration</th>\n",
       "      <th>Pulse</th>\n",
       "      <th>Maxpulse</th>\n",
       "      <th>Calories</th>\n",
       "    </tr>\n",
       "  </thead>\n",
       "  <tbody>\n",
       "    <tr>\n",
       "      <th>0</th>\n",
       "      <td>60</td>\n",
       "      <td>110</td>\n",
       "      <td>130</td>\n",
       "      <td>409.1</td>\n",
       "    </tr>\n",
       "    <tr>\n",
       "      <th>1</th>\n",
       "      <td>60</td>\n",
       "      <td>117</td>\n",
       "      <td>145</td>\n",
       "      <td>479.0</td>\n",
       "    </tr>\n",
       "    <tr>\n",
       "      <th>2</th>\n",
       "      <td>60</td>\n",
       "      <td>103</td>\n",
       "      <td>135</td>\n",
       "      <td>340.0</td>\n",
       "    </tr>\n",
       "    <tr>\n",
       "      <th>3</th>\n",
       "      <td>45</td>\n",
       "      <td>109</td>\n",
       "      <td>175</td>\n",
       "      <td>282.4</td>\n",
       "    </tr>\n",
       "    <tr>\n",
       "      <th>4</th>\n",
       "      <td>45</td>\n",
       "      <td>117</td>\n",
       "      <td>148</td>\n",
       "      <td>406.0</td>\n",
       "    </tr>\n",
       "  </tbody>\n",
       "</table>\n",
       "</div>"
      ],
      "text/plain": [
       "   Duration  Pulse  Maxpulse  Calories\n",
       "0        60    110       130     409.1\n",
       "1        60    117       145     479.0\n",
       "2        60    103       135     340.0\n",
       "3        45    109       175     282.4\n",
       "4        45    117       148     406.0"
      ]
     },
     "execution_count": 75,
     "metadata": {},
     "output_type": "execute_result"
    }
   ],
   "source": [
    "#displays the first five rows data \n",
    "data.head()\n"
   ]
  },
  {
   "cell_type": "code",
   "execution_count": 76,
   "id": "9cffe875",
   "metadata": {},
   "outputs": [
    {
     "data": {
      "text/plain": [
       "Duration      int64\n",
       "Pulse         int64\n",
       "Maxpulse      int64\n",
       "Calories    float64\n",
       "dtype: object"
      ]
     },
     "execution_count": 76,
     "metadata": {},
     "output_type": "execute_result"
    }
   ],
   "source": [
    "data.dtypes #shows the data type of each column"
   ]
  },
  {
   "cell_type": "markdown",
   "id": "6a9024ad",
   "metadata": {},
   "source": [
    "c. Show the basic statistical description about the data"
   ]
  },
  {
   "cell_type": "code",
   "execution_count": 77,
   "id": "be1258ff",
   "metadata": {},
   "outputs": [
    {
     "data": {
      "text/plain": [
       "count    169.000000\n",
       "mean      63.846154\n",
       "std       42.299949\n",
       "min       15.000000\n",
       "25%       45.000000\n",
       "50%       60.000000\n",
       "75%       60.000000\n",
       "max      300.000000\n",
       "Name: Duration, dtype: float64"
      ]
     },
     "execution_count": 77,
     "metadata": {},
     "output_type": "execute_result"
    }
   ],
   "source": [
    "data.Duration.describe() #shows the basic mathematical operations like mean minimum standard deviation"
   ]
  },
  {
   "cell_type": "code",
   "execution_count": 78,
   "id": "029b97da",
   "metadata": {},
   "outputs": [
    {
     "data": {
      "text/plain": [
       "count    169.000000\n",
       "mean     107.461538\n",
       "std       14.510259\n",
       "min       80.000000\n",
       "25%      100.000000\n",
       "50%      105.000000\n",
       "75%      111.000000\n",
       "max      159.000000\n",
       "Name: Pulse, dtype: float64"
      ]
     },
     "execution_count": 78,
     "metadata": {},
     "output_type": "execute_result"
    }
   ],
   "source": [
    "data.Pulse.describe()"
   ]
  },
  {
   "cell_type": "code",
   "execution_count": 79,
   "id": "5c3fb756",
   "metadata": {},
   "outputs": [
    {
     "data": {
      "text/plain": [
       "count    169.000000\n",
       "mean     134.047337\n",
       "std       16.450434\n",
       "min      100.000000\n",
       "25%      124.000000\n",
       "50%      131.000000\n",
       "75%      141.000000\n",
       "max      184.000000\n",
       "Name: Maxpulse, dtype: float64"
      ]
     },
     "execution_count": 79,
     "metadata": {},
     "output_type": "execute_result"
    }
   ],
   "source": [
    "data.Maxpulse.describe()"
   ]
  },
  {
   "cell_type": "code",
   "execution_count": 80,
   "id": "5ba08d25",
   "metadata": {},
   "outputs": [
    {
     "data": {
      "text/plain": [
       "count     164.000000\n",
       "mean      375.790244\n",
       "std       266.379919\n",
       "min        50.300000\n",
       "25%       250.925000\n",
       "50%       318.600000\n",
       "75%       387.600000\n",
       "max      1860.400000\n",
       "Name: Calories, dtype: float64"
      ]
     },
     "execution_count": 80,
     "metadata": {},
     "output_type": "execute_result"
    }
   ],
   "source": [
    "data.Calories.describe()"
   ]
  },
  {
   "cell_type": "code",
   "execution_count": 81,
   "id": "584315f4",
   "metadata": {},
   "outputs": [
    {
     "name": "stdout",
     "output_type": "stream",
     "text": [
      "Duration    0\n",
      "Pulse       0\n",
      "Maxpulse    0\n",
      "Calories    5\n",
      "dtype: int64\n"
     ]
    }
   ],
   "source": [
    "print(data.isnull().sum())\n",
    "#checking if any null values present "
   ]
  },
  {
   "cell_type": "markdown",
   "id": "5b89b5c3",
   "metadata": {},
   "source": [
    "d. Check if the data has null values.\n",
    "\n",
    "i. Replace the null values with the mean"
   ]
  },
  {
   "cell_type": "code",
   "execution_count": 82,
   "id": "f0b09b87",
   "metadata": {},
   "outputs": [],
   "source": [
    "data.isnull().sum()  # Check for null values\n",
    "data.fillna(data.mean(), inplace=True)  # Replacing all the null values with the mean data for the particular column\n"
   ]
  },
  {
   "cell_type": "code",
   "execution_count": 83,
   "id": "9569ef8c",
   "metadata": {},
   "outputs": [
    {
     "name": "stdout",
     "output_type": "stream",
     "text": [
      "Duration    0\n",
      "Pulse       0\n",
      "Maxpulse    0\n",
      "Calories    0\n",
      "dtype: int64\n"
     ]
    }
   ],
   "source": [
    "print(data.isnull().sum())"
   ]
  },
  {
   "cell_type": "markdown",
   "id": "6bcc807f",
   "metadata": {},
   "source": [
    "e. Select at least two columns and aggregate the data using: min, max, count,mean"
   ]
  },
  {
   "cell_type": "code",
   "execution_count": 84,
   "id": "8de3148f",
   "metadata": {},
   "outputs": [
    {
     "name": "stdout",
     "output_type": "stream",
     "text": [
      "          Calories       Pulse\n",
      "min      50.300000   80.000000\n",
      "max    1860.400000  159.000000\n",
      "count   169.000000  169.000000\n",
      "mean    375.790244  107.461538\n"
     ]
    }
   ],
   "source": [
    "aggregate_data = data[['Calories', 'Pulse']].agg(['min', 'max', 'count', 'mean']) #finding the aggregate operation of any two columns\n",
    "print(aggregate_data)\n"
   ]
  },
  {
   "cell_type": "markdown",
   "id": "b9261bf3",
   "metadata": {},
   "source": [
    "f. Filter the dataframe to select the rows with calories values between 500 and 1000"
   ]
  },
  {
   "cell_type": "code",
   "execution_count": 85,
   "id": "4472ec40",
   "metadata": {},
   "outputs": [
    {
     "name": "stdout",
     "output_type": "stream",
     "text": [
      "     Duration  Pulse  Maxpulse  Calories\n",
      "51         80    123       146     643.1\n",
      "62        160    109       135     853.0\n",
      "65        180     90       130     800.4\n",
      "66        150    105       135     873.4\n",
      "67        150    107       130     816.0\n",
      "72         90    100       127     700.0\n",
      "73        150     97       127     953.2\n",
      "75         90     98       125     563.2\n",
      "78        120    100       130     500.4\n",
      "83        120    100       130     500.0\n",
      "90        180    101       127     600.1\n",
      "99         90     93       124     604.1\n",
      "101        90     90       110     500.0\n",
      "102        90     90       100     500.0\n",
      "103        90     90       100     500.4\n",
      "106       180     90       120     800.3\n",
      "108        90     90       120     500.3\n"
     ]
    }
   ],
   "source": [
    "filtered_data = data[(data['Calories'] >= 500) & (data['Calories'] <= 1000)]\n",
    "print(filtered_data)\n"
   ]
  },
  {
   "cell_type": "markdown",
   "id": "c21cf247",
   "metadata": {},
   "source": [
    "g. Filter the dataframe to select the rows with calories values > 500 and pulse <100"
   ]
  },
  {
   "cell_type": "code",
   "execution_count": 86,
   "id": "f962c55b",
   "metadata": {},
   "outputs": [
    {
     "name": "stdout",
     "output_type": "stream",
     "text": [
      "     Duration  Pulse  Maxpulse  Calories\n",
      "65        180     90       130     800.4\n",
      "70        150     97       129    1115.0\n",
      "73        150     97       127     953.2\n",
      "75         90     98       125     563.2\n",
      "99         90     93       124     604.1\n",
      "103        90     90       100     500.4\n",
      "106       180     90       120     800.3\n",
      "108        90     90       120     500.3\n"
     ]
    }
   ],
   "source": [
    "filtered_data2 = data[(data['Calories'] > 500) & (data['Pulse'] < 100)]\n",
    "print(filtered_data2)\n"
   ]
  },
  {
   "cell_type": "markdown",
   "id": "ebc1697f",
   "metadata": {},
   "source": [
    "h. Create a new “df_modified” dataframe that contains all the columns from df exceptfor\n",
    "“Maxpulse”"
   ]
  },
  {
   "cell_type": "code",
   "execution_count": 87,
   "id": "014ed3fc",
   "metadata": {},
   "outputs": [
    {
     "name": "stdout",
     "output_type": "stream",
     "text": [
      "     Duration  Pulse  Calories\n",
      "0          60    110     409.1\n",
      "1          60    117     479.0\n",
      "2          60    103     340.0\n",
      "3          45    109     282.4\n",
      "4          45    117     406.0\n",
      "..        ...    ...       ...\n",
      "164        60    105     290.8\n",
      "165        60    110     300.0\n",
      "166        60    115     310.2\n",
      "167        75    120     320.4\n",
      "168        75    125     330.4\n",
      "\n",
      "[169 rows x 3 columns]\n"
     ]
    }
   ],
   "source": [
    "df_modified = data.drop('Maxpulse', axis=1)\n",
    "print(df_modified)\n"
   ]
  },
  {
   "cell_type": "markdown",
   "id": "4e0c2489",
   "metadata": {},
   "source": [
    "i. Delete the “Maxpulse” column from the main df dataframe"
   ]
  },
  {
   "cell_type": "code",
   "execution_count": 88,
   "id": "8e7da5de",
   "metadata": {},
   "outputs": [],
   "source": [
    "data.drop('Maxpulse', axis=1, inplace=True)\n"
   ]
  },
  {
   "cell_type": "markdown",
   "id": "dfce4091",
   "metadata": {},
   "source": [
    "j. Convert the datatype of Calories column to int datatype.\n"
   ]
  },
  {
   "cell_type": "code",
   "execution_count": 89,
   "id": "4e8de439",
   "metadata": {},
   "outputs": [],
   "source": [
    "data['Calories'] = data['Calories'].astype(int)\n"
   ]
  },
  {
   "cell_type": "markdown",
   "id": "b8979e1a",
   "metadata": {},
   "source": [
    "k. Using pandas create a scatter plot for the two columns (Duration andCalories). "
   ]
  },
  {
   "cell_type": "code",
   "execution_count": 90,
   "id": "94af11c4",
   "metadata": {},
   "outputs": [
    {
     "data": {
      "image/png": "[encoded data removed]",
      "text/plain": [
       "<Figure size 640x480 with 1 Axes>"
      ]
     },
     "metadata": {},
     "output_type": "display_data"
    }
   ],
   "source": [
    "plt.scatter(data['Duration'], data['Calories'])\n",
    "plt.xlabel('Duration')\n",
    "plt.ylabel('Calories')\n",
    "plt.title('Duration vs. Calories Scatter Plot')\n",
    "plt.show()\n"
   ]
  },
  {
   "cell_type": "code",
   "execution_count": null,
   "id": "2742ee11",
   "metadata": {},
   "outputs": [],
   "source": []
  }
 ],
 "metadata": {
  "kernelspec": {
   "display_name": "Python 3 (ipykernel)",
   "language": "python",
   "name": "python3"
  },
  "language_info": {
   "codemirror_mode": {
    "name": "ipython",
    "version": 3
   },
   "file_extension": ".py",
   "mimetype": "text/x-python",
   "name": "python",
   "nbconvert_exporter": "python",
   "pygments_lexer": "ipython3",
   "version": "3.11.4"
  }
 },
 "nbformat": 4,
 "nbformat_minor": 5
}
