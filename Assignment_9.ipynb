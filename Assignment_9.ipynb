{
 "cells": [
  {
   "cell_type": "code",
   "execution_count": 1,
   "metadata": {},
   "outputs": [],
   "source": [
    "import pandas as pd #Basic packages for creating dataframes and loading dataset\n",
    "import numpy as np\n",
    "\n",
    "import matplotlib.pyplot as plt #Package for visualization\n",
    "\n",
    "import re #importing package for Regular expression operations\n",
    "\n",
    "from sklearn.model_selection import train_test_split #Package for splitting the data\n",
    "\n",
    "from sklearn.preprocessing import LabelEncoder #Package for conversion of categorical to Numerical\n",
    "\n",
    "from keras.preprocessing.text import Tokenizer #Tokenization\n",
    "from keras.preprocessing.sequence import pad_sequences #Add zeros or crop based on the length\n",
    "from keras.models import Sequential #Sequential Neural Network\n",
    "from keras.layers import Dense, Embedding, LSTM, SpatialDropout1D #For layers in Neural Network\n",
    "from keras.utils.np_utils import to_categorical"
   ]
  },
  {
   "cell_type": "code",
   "execution_count": 2,
   "metadata": {},
   "outputs": [],
   "source": [
    "data = pd.read_csv('Sentiment.csv') #Looading the dataset\n",
    "\n",
    "data = data[['text','sentiment']] # Keeping only the neccessary columns"
   ]
  },
  {
   "cell_type": "code",
   "execution_count": 3,
   "metadata": {},
   "outputs": [],
   "source": [
    "data['text'] = data['text'].apply(lambda x: x.lower()) #converting to lower case\n",
    "data['text'] = data['text'].apply((lambda x: re.sub('[^a-zA-Z0-9\\s]', '', x))) #only a-z,A-Z,0-9 would be remaining in the data, else special characters are removed"
   ]
  },
  {
   "cell_type": "code",
   "execution_count": 4,
   "metadata": {},
   "outputs": [],
   "source": [
    "for idx, row in data.iterrows():\n",
    "    row[0] = row[0].replace('rt', ' ') #Removing Retweets"
   ]
  },
  {
   "cell_type": "code",
   "execution_count": 6,
   "metadata": {},
   "outputs": [],
   "source": [
    "max_fatures = 2000\n",
    "tokenizer = Tokenizer(num_words=max_fatures, split=' ') #Maximum words is 2000 to tokenize sentence\n",
    "tokenizer.fit_on_texts(data['text'].values) \n",
    "X = tokenizer.texts_to_sequences(data['text'].values) #taking values to feature matrix"
   ]
  },
  {
   "cell_type": "code",
   "execution_count": 7,
   "metadata": {},
   "outputs": [],
   "source": [
    "X = pad_sequences(X) #Padding the feature matrix\n",
    "\n",
    "embed_dim = 128 #Dimension of the Embedded layer\n",
    "lstm_out = 196 #Long short-term memory (LSTM) layer neurons"
   ]
  },
  {
   "cell_type": "code",
   "execution_count": 8,
   "metadata": {},
   "outputs": [],
   "source": [
    "def createmodel():\n",
    "    model = Sequential() #Sequential Neural Network\n",
    "    model.add(Embedding(max_fatures, embed_dim,input_length = X.shape[1])) #input dimension 2000 Neurons, output dimension 128 Neurons\n",
    "    model.add(LSTM(lstm_out, dropout=0.2, recurrent_dropout=0.2)) #Drop out 20%, 196 output Neurons, recurrent dropout 20%\n",
    "    model.add(Dense(3,activation='softmax')) #3 output neurons[positive, Neutral, Negative], softmax as activation\n",
    "    model.compile(loss = 'categorical_crossentropy', optimizer='adam',metrics = ['accuracy']) #Compiling the model\n",
    "    return model\n",
    "# print(model.summary())"
   ]
  },
  {
   "cell_type": "code",
   "execution_count": 9,
   "metadata": {},
   "outputs": [],
   "source": [
    "labelencoder = LabelEncoder() #Applying label Encoding on the label matrix\n",
    "integer_encoded = labelencoder.fit_transform(data['sentiment']) #fitting the model\n",
    "y = to_categorical(integer_encoded)\n",
    "X_train, X_test, Y_train, Y_test = train_test_split(X,y, test_size = 0.33, random_state = 42) #67% training data, 33% test data split"
   ]
  },
  {
   "cell_type": "code",
   "execution_count": 11,
   "metadata": {},
   "outputs": [
    {
     "name": "stdout",
     "output_type": "stream",
     "text": [
      "291/291 - 53s - loss: 0.8207 - accuracy: 0.6467\n",
      "144/144 - 3s - loss: 0.7451 - accuracy: 0.6767\n",
      "0.7450950145721436\n",
      "0.6767147183418274\n"
     ]
    }
   ],
   "source": [
    "batch_size = 32 #Batch size 32\n",
    "model = createmodel() #Function call to Sequential Neural Network\n",
    "model.fit(X_train, Y_train, epochs = 1, batch_size=batch_size, verbose = 2) #verbose the higher, the more messages\n",
    "score,acc = model.evaluate(X_test,Y_test,verbose=2,batch_size=batch_size) #evaluating the model\n",
    "print(score)\n",
    "print(acc)"
   ]
  },
  {
   "cell_type": "code",
   "execution_count": 12,
   "metadata": {},
   "outputs": [
    {
     "name": "stdout",
     "output_type": "stream",
     "text": [
      "['loss', 'accuracy']\n"
     ]
    }
   ],
   "source": [
    "print(model.metrics_names) #metrics of the model"
   ]
  },
  {
   "cell_type": "markdown",
   "metadata": {},
   "source": [
    "## Save the model and use the saved model to predict on new text data (ex, “A lot of good things are happening. We are respected again throughout the world, and that's a great thing.@realDonaldTrump”)"
   ]
  },
  {
   "cell_type": "code",
   "execution_count": 13,
   "metadata": {},
   "outputs": [],
   "source": [
    "model.save('sentimentAnalysis.h5') #Saving the model"
   ]
  },
  {
   "cell_type": "code",
   "execution_count": 14,
   "metadata": {},
   "outputs": [],
   "source": [
    "from keras.models import load_model #Importing the package for importing the saved model\n",
    "model= load_model('sentimentAnalysis.h5') #loading the saved model"
   ]
  },
  {
   "cell_type": "code",
   "execution_count": 15,
   "metadata": {},
   "outputs": [
    {
     "name": "stdout",
     "output_type": "stream",
     "text": [
      "[1 2 1 ... 2 0 2]\n",
      "0         Neutral\n",
      "1        Positive\n",
      "2         Neutral\n",
      "3        Positive\n",
      "4        Positive\n",
      "           ...   \n",
      "13866    Negative\n",
      "13867    Positive\n",
      "13868    Positive\n",
      "13869    Negative\n",
      "13870    Positive\n",
      "Name: sentiment, Length: 13871, dtype: object\n"
     ]
    }
   ],
   "source": [
    "print(integer_encoded)\n",
    "print(data['sentiment'])"
   ]
  },
  {
   "cell_type": "code",
   "execution_count": 20,
   "metadata": {},
   "outputs": [
    {
     "name": "stdout",
     "output_type": "stream",
     "text": [
      "1/1 - 0s\n",
      "0\n",
      "Neutral\n"
     ]
    }
   ],
   "source": [
    "#predicting on the text data\n",
    "sentence = ['A lot of good things are happening. We are respected again throughout the world, and that is a great thing.@realDonaldTrump']\n",
    "sentence = tokenizer.texts_to_sequences(sentence) #tokenizing the sentence\n",
    "sentence = pad_sequences(sentence, maxlen=28, dtype='int32', value=0) #padding the sentence\n",
    "sentiment = model.predict_classes(sentence,batch_size=1,verbose = 2)[0] #predicting the sentence text\n",
    "print(sentiment)\n",
    "if sentiment == 0:\n",
    "  print(\"Neutral\")\n",
    "elif sentiment < 0:\n",
    "  print(\"Negative\")\n",
    "elif sentiment > 0:\n",
    "  print(\"Positive\")\n",
    "else:\n",
    "  print(\"Can not be determined\")"
   ]
  },
  {
   "cell_type": "markdown",
   "metadata": {},
   "source": [
    "## Apply GridSearchCV on the source code provided in the class"
   ]
  },
  {
   "cell_type": "code",
   "execution_count": 21,
   "metadata": {},
   "outputs": [
    {
     "name": "stdout",
     "output_type": "stream",
     "text": [
      "744/744 - 108s - loss: 0.8264 - accuracy: 0.6457\n",
      "186/186 - 3s - loss: 0.7517 - accuracy: 0.6729\n",
      "744/744 - 103s - loss: 0.8241 - accuracy: 0.6474\n",
      "186/186 - 3s - loss: 0.7517 - accuracy: 0.6832\n",
      "744/744 - 103s - loss: 0.8248 - accuracy: 0.6465\n",
      "186/186 - 3s - loss: 0.7615 - accuracy: 0.6649\n",
      "744/744 - 101s - loss: 0.8232 - accuracy: 0.6477\n",
      "186/186 - 3s - loss: 0.7584 - accuracy: 0.6744\n",
      "744/744 - 110s - loss: 0.8207 - accuracy: 0.6426\n",
      "186/186 - 4s - loss: 0.7927 - accuracy: 0.6539\n",
      "Epoch 1/2\n",
      "744/744 - 106s - loss: 0.8252 - accuracy: 0.6484\n",
      "Epoch 2/2\n",
      "744/744 - 102s - loss: 0.6775 - accuracy: 0.7135\n",
      "186/186 - 3s - loss: 0.7590 - accuracy: 0.6434\n",
      "Epoch 1/2\n",
      "744/744 - 126s - loss: 0.8287 - accuracy: 0.6447\n",
      "Epoch 2/2\n",
      "744/744 - 108s - loss: 0.6852 - accuracy: 0.7096\n",
      "186/186 - 3s - loss: 0.7468 - accuracy: 0.6719\n",
      "Epoch 1/2\n",
      "744/744 - 109s - loss: 0.8343 - accuracy: 0.6419\n",
      "Epoch 2/2\n",
      "744/744 - 98s - loss: 0.6859 - accuracy: 0.7086\n",
      "186/186 - 4s - loss: 0.7626 - accuracy: 0.6848\n",
      "Epoch 1/2\n",
      "744/744 - 114s - loss: 0.8290 - accuracy: 0.6430\n",
      "Epoch 2/2\n",
      "744/744 - 113s - loss: 0.6799 - accuracy: 0.7089\n",
      "186/186 - 3s - loss: 0.7584 - accuracy: 0.6701\n",
      "Epoch 1/2\n",
      "744/744 - 119s - loss: 0.8262 - accuracy: 0.6461\n",
      "Epoch 2/2\n",
      "744/744 - 113s - loss: 0.6683 - accuracy: 0.7188\n",
      "186/186 - 4s - loss: 0.8129 - accuracy: 0.6701\n",
      "372/372 - 53s - loss: 0.8357 - accuracy: 0.6437\n",
      "93/93 - 2s - loss: 0.7698 - accuracy: 0.6584\n",
      "372/372 - 53s - loss: 0.8208 - accuracy: 0.6482\n",
      "93/93 - 2s - loss: 0.7552 - accuracy: 0.6789\n",
      "372/372 - 82s - loss: 0.8375 - accuracy: 0.6376\n",
      "93/93 - 3s - loss: 0.7795 - accuracy: 0.6552\n",
      "372/372 - 72s - loss: 0.8372 - accuracy: 0.6394\n",
      "93/93 - 3s - loss: 0.7514 - accuracy: 0.6755\n",
      "372/372 - 62s - loss: 0.8218 - accuracy: 0.6464\n",
      "93/93 - 3s - loss: 0.7769 - accuracy: 0.6765\n",
      "Epoch 1/2\n",
      "372/372 - 67s - loss: 0.8321 - accuracy: 0.6469\n",
      "Epoch 2/2\n",
      "372/372 - 62s - loss: 0.6856 - accuracy: 0.7121\n",
      "93/93 - 2s - loss: 0.7273 - accuracy: 0.6837\n",
      "Epoch 1/2\n",
      "372/372 - 65s - loss: 0.8294 - accuracy: 0.6474\n",
      "Epoch 2/2\n",
      "372/372 - 59s - loss: 0.6850 - accuracy: 0.7078\n",
      "93/93 - 3s - loss: 0.7417 - accuracy: 0.6826\n",
      "Epoch 1/2\n",
      "372/372 - 67s - loss: 0.8305 - accuracy: 0.6352\n",
      "Epoch 2/2\n",
      "372/372 - 65s - loss: 0.6794 - accuracy: 0.7124\n",
      "93/93 - 4s - loss: 0.7518 - accuracy: 0.6826\n",
      "Epoch 1/2\n",
      "372/372 - 66s - loss: 0.8326 - accuracy: 0.6405\n",
      "Epoch 2/2\n",
      "372/372 - 66s - loss: 0.6816 - accuracy: 0.7110\n",
      "93/93 - 3s - loss: 0.7488 - accuracy: 0.6744\n",
      "Epoch 1/2\n",
      "372/372 - 62s - loss: 0.8280 - accuracy: 0.6406\n",
      "Epoch 2/2\n",
      "372/372 - 66s - loss: 0.6688 - accuracy: 0.7165\n",
      "93/93 - 4s - loss: 0.8182 - accuracy: 0.6722\n",
      "186/186 - 42s - loss: 0.8509 - accuracy: 0.6316\n",
      "47/47 - 3s - loss: 0.7618 - accuracy: 0.6686\n",
      "186/186 - 52s - loss: 0.8485 - accuracy: 0.6359\n",
      "47/47 - 3s - loss: 0.7880 - accuracy: 0.6493\n",
      "186/186 - 44s - loss: 0.8469 - accuracy: 0.6356\n",
      "47/47 - 3s - loss: 0.7921 - accuracy: 0.6536\n",
      "186/186 - 37s - loss: 0.8474 - accuracy: 0.6374\n",
      "47/47 - 2s - loss: 0.7449 - accuracy: 0.6755\n",
      "186/186 - 39s - loss: 0.8402 - accuracy: 0.6360\n",
      "47/47 - 3s - loss: 0.7793 - accuracy: 0.6588\n",
      "Epoch 1/2\n",
      "186/186 - 39s - loss: 0.8513 - accuracy: 0.6324\n",
      "Epoch 2/2\n",
      "186/186 - 40s - loss: 0.6918 - accuracy: 0.7101\n",
      "47/47 - 3s - loss: 0.7418 - accuracy: 0.6756\n",
      "Epoch 1/2\n",
      "186/186 - 39s - loss: 0.8457 - accuracy: 0.6367\n",
      "Epoch 2/2\n",
      "186/186 - 48s - loss: 0.6893 - accuracy: 0.7096\n",
      "47/47 - 4s - loss: 0.7367 - accuracy: 0.6735\n",
      "Epoch 1/2\n",
      "186/186 - 46s - loss: 0.8491 - accuracy: 0.6330\n",
      "Epoch 2/2\n",
      "186/186 - 45s - loss: 0.6871 - accuracy: 0.7069\n",
      "47/47 - 3s - loss: 0.7432 - accuracy: 0.6869\n",
      "Epoch 1/2\n",
      "186/186 - 42s - loss: 0.8498 - accuracy: 0.6364\n",
      "Epoch 2/2\n",
      "186/186 - 44s - loss: 0.6894 - accuracy: 0.7077\n",
      "47/47 - 3s - loss: 0.7463 - accuracy: 0.6755\n",
      "Epoch 1/2\n",
      "186/186 - 41s - loss: 0.8498 - accuracy: 0.6313\n",
      "Epoch 2/2\n",
      "186/186 - 41s - loss: 0.6830 - accuracy: 0.7076\n",
      "47/47 - 3s - loss: 0.7894 - accuracy: 0.6738\n",
      "Epoch 1/2\n",
      "465/465 - 93s - loss: 0.8177 - accuracy: 0.6508\n",
      "Epoch 2/2\n",
      "465/465 - 106s - loss: 0.6765 - accuracy: 0.7120\n",
      "Best: 0.679112 using {'batch_size': 20, 'epochs': 2}\n"
     ]
    }
   ],
   "source": [
    "from keras.wrappers.scikit_learn import KerasClassifier #importing Keras classifier\n",
    "from sklearn.model_selection import GridSearchCV #importing Grid search CV\n",
    "\n",
    "model = KerasClassifier(build_fn=createmodel,verbose=2) #initiating model to test performance by applying multiple hyper parameters\n",
    "batch_size= [10, 20, 40] #hyper parameter batch_size\n",
    "epochs = [1, 2] #hyper parameter no. of epochs\n",
    "param_grid= {'batch_size':batch_size, 'epochs':epochs} #creating dictionary for batch size, no. of epochs\n",
    "grid  = GridSearchCV(estimator=model, param_grid=param_grid) #Applying dictionary with hyper parameters\n",
    "grid_result= grid.fit(X_train,Y_train) #Fitting the model\n",
    "# summarize results\n",
    "print(\"Best: %f using %s\" % (grid_result.best_score_, grid_result.best_params_)) #best score, best hyper parameters"
   ]
  },
  {
   "cell_type": "code",
   "execution_count": null,
   "metadata": {},
   "outputs": [],
   "source": []
  }
 ],
 "metadata": {
  "kernelspec": {
   "display_name": "Python 3",
   "language": "python",
   "name": "python3"
  },
  "language_info": {
   "codemirror_mode": {
    "name": "ipython",
    "version": 3
   },
   "file_extension": ".py",
   "mimetype": "text/x-python",
   "name": "python",
   "nbconvert_exporter": "python",
   "pygments_lexer": "ipython3",
   "version": "3.7.6"
  }
 },
 "nbformat": 4,
 "nbformat_minor": 4
}
